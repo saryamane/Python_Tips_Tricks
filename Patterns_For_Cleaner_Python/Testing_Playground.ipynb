{
 "cells": [
  {
   "cell_type": "code",
   "execution_count": 10,
   "metadata": {},
   "outputs": [],
   "source": [
    "def reverse(x: int) -> int:\n",
    "        is_signed = lambda x_val: (-1, 1)[x_val > 0]\n",
    "        neg_sign = is_signed(x)\n",
    "        print(neg_sign)\n",
    "        \n",
    "        x_str = str(abs(x))\n",
    "        print(x_str)\n",
    "        arr = []\n",
    "        for i in x_str:\n",
    "            arr.append(i)\n",
    "        print(arr)\n",
    "            \n",
    "        rev_str = arr[::-1]\n",
    "        print(rev_str)\n",
    "        return int(''.join(rev_str)) * neg_sign"
   ]
  },
  {
   "cell_type": "code",
   "execution_count": 11,
   "metadata": {},
   "outputs": [
    {
     "name": "stdout",
     "output_type": "stream",
     "text": [
      "-1\n",
      "123\n",
      "['1', '2', '3']\n",
      "['3', '2', '1']\n"
     ]
    },
    {
     "data": {
      "text/plain": [
       "-321"
      ]
     },
     "execution_count": 11,
     "metadata": {},
     "output_type": "execute_result"
    }
   ],
   "source": [
    "reverse(-123)"
   ]
  },
  {
   "cell_type": "code",
   "execution_count": 7,
   "metadata": {},
   "outputs": [],
   "source": [
    "is_signed = lambda x_val: (1, -1)[x_val > 0]"
   ]
  },
  {
   "cell_type": "code",
   "execution_count": 9,
   "metadata": {},
   "outputs": [
    {
     "data": {
      "text/plain": [
       "-1"
      ]
     },
     "execution_count": 9,
     "metadata": {},
     "output_type": "execute_result"
    }
   ],
   "source": [
    "is_signed(123)"
   ]
  },
  {
   "cell_type": "code",
   "execution_count": 12,
   "metadata": {},
   "outputs": [
    {
     "data": {
      "text/plain": [
       "28"
      ]
     },
     "execution_count": 12,
     "metadata": {},
     "output_type": "execute_result"
    }
   ],
   "source": [
    "2^31 - 1"
   ]
  },
  {
   "cell_type": "code",
   "execution_count": 14,
   "metadata": {},
   "outputs": [
    {
     "data": {
      "text/plain": [
       "2147483647"
      ]
     },
     "execution_count": 14,
     "metadata": {},
     "output_type": "execute_result"
    }
   ],
   "source": [
    "2**31 - 1"
   ]
  },
  {
   "cell_type": "code",
   "execution_count": 15,
   "metadata": {},
   "outputs": [],
   "source": [
    "class Solution():\n",
    "    def reverse(self, x: int) -> int:\n",
    "        def is_signed(x_val):\n",
    "            if x_val < 0:\n",
    "                return -1\n",
    "            else:\n",
    "                return 1\n",
    "        neg_sign = is_signed(x)\n",
    "\n",
    "        x_str = str(abs(x))\n",
    "        arr = []\n",
    "        for i in x_str:\n",
    "            arr.append(i)\n",
    "\n",
    "        rev_str = arr[::-1]\n",
    "        output = int(''.join(rev_str)) * neg_sign\n",
    "\n",
    "        if abs(output) > (2**31 - 1):\n",
    "            return 0\n",
    "        else:\n",
    "            return output"
   ]
  },
  {
   "cell_type": "code",
   "execution_count": 16,
   "metadata": {},
   "outputs": [
    {
     "name": "stdout",
     "output_type": "stream",
     "text": [
      "-232321\n"
     ]
    }
   ],
   "source": [
    "sol = Solution()\n",
    "print(sol.reverse(-123232))"
   ]
  },
  {
   "cell_type": "code",
   "execution_count": 17,
   "metadata": {},
   "outputs": [],
   "source": [
    "def is_signed(x_val):\n",
    "            if x_val < 0:\n",
    "                return -1\n",
    "            else:\n",
    "                return 1"
   ]
  },
  {
   "cell_type": "code",
   "execution_count": 18,
   "metadata": {},
   "outputs": [
    {
     "data": {
      "text/plain": [
       "-1"
      ]
     },
     "execution_count": 18,
     "metadata": {},
     "output_type": "execute_result"
    }
   ],
   "source": [
    "is_signed(-312)"
   ]
  },
  {
   "cell_type": "code",
   "execution_count": 21,
   "metadata": {},
   "outputs": [],
   "source": [
    "class Solution:\n",
    "    def reverseString(self, s):\n",
    "        \"\"\"\n",
    "        Do not return anything, modify s in-place instead.\n",
    "        \"\"\"\n",
    "        output = []\n",
    "        l = len(s)\n",
    "        while l > 0:\n",
    "            l -= 1\n",
    "            output.append(s[l])\n",
    "            \n",
    "        return output"
   ]
  },
  {
   "cell_type": "code",
   "execution_count": 22,
   "metadata": {},
   "outputs": [
    {
     "name": "stdout",
     "output_type": "stream",
     "text": [
      "['l', 'e', 'e', 'h']\n"
     ]
    }
   ],
   "source": [
    "sol = Solution()\n",
    "print(sol.reverseString([\"h\",\"e\",\"e\",\"l\"]))"
   ]
  },
  {
   "cell_type": "code",
   "execution_count": null,
   "metadata": {},
   "outputs": [],
   "source": []
  }
 ],
 "metadata": {
  "kernelspec": {
   "display_name": "Python 3",
   "language": "python",
   "name": "python3"
  },
  "language_info": {
   "codemirror_mode": {
    "name": "ipython",
    "version": 3
   },
   "file_extension": ".py",
   "mimetype": "text/x-python",
   "name": "python",
   "nbconvert_exporter": "python",
   "pygments_lexer": "ipython3",
   "version": "3.6.1"
  }
 },
 "nbformat": 4,
 "nbformat_minor": 2
}
