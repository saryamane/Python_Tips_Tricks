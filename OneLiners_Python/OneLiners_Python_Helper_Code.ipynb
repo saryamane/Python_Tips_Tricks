{
 "cells": [
  {
   "cell_type": "code",
   "execution_count": 4,
   "metadata": {},
   "outputs": [],
   "source": [
    "# Version checkpoint for Python code compatibility\n",
    "\n",
    "import sys\n",
    "if not sys.version_info > (2, 7):\n",
    "   # berate your user for running a 10 year\n",
    "   # python version\n",
    "    print(\"You are using a 10 year old Python version\")\n",
    "elif not sys.version_info >= (3, 5):\n",
    "   # Kindly tell your user (s)he needs to upgrade\n",
    "   # because you're using 3.5 features\n",
    "    print(\"Please upgrade your python version to 3.6 and beyond!\")\n"
   ]
  },
  {
   "cell_type": "code",
   "execution_count": 2,
   "metadata": {
    "pycharm": {
     "is_executing": false,
     "name": "#%%\n"
    }
   },
   "outputs": [
    {
     "name": "stdout",
     "output_type": "stream",
     "text": [
      "sys.version_info(major=3, minor=7, micro=3, releaselevel='final', serial=0)\n"
     ]
    }
   ],
   "source": [
    "import sys\n",
    "print(sys.version_info)\n"
   ]
  },
  {
   "cell_type": "code",
   "execution_count": 5,
   "metadata": {
    "pycharm": {
     "is_executing": false,
     "name": "#%%\n"
    }
   },
   "outputs": [
    {
     "name": "stdout",
     "output_type": "stream",
     "text": [
      "[0, 1, 2, 3, 4, 5, 6, 7, 8, 9, 10, 11, 12, 13, 14, 15, 16, 17, 18, 19, 20, 21, 22, 23, 24, 25, 26, 27, 28, 29, 30, 31, 32, 33, 34, 35, 36, 37, 38, 39, 40, 41, 42, 43, 44, 45, 46, 47, 48, 49, 50, 51, 52, 53, 54, 55, 56, 57, 58, 59, 60, 61, 62, 63, 64, 65, 66, 67, 68, 69, 70, 71, 72, 73, 74, 75, 76, 77, 78, 79, 80, 81, 82, 83, 84, 85, 86, 87, 88, 89, 90, 91, 92, 93, 94, 95, 96, 97, 98, 99]\n"
     ]
    }
   ],
   "source": [
    "mylist = [i for i in range(100)]\n",
    "print(mylist)"
   ]
  },
  {
   "cell_type": "code",
   "execution_count": 9,
   "metadata": {
    "pycharm": {
     "is_executing": false,
     "name": "#%%\n"
    }
   },
   "outputs": [],
   "source": [
    "def some_function(a):\n",
    "    return int((a + 5) / 2)\n"
   ]
  },
  {
   "cell_type": "code",
   "execution_count": 10,
   "metadata": {
    "pycharm": {
     "is_executing": false,
     "name": "#%%\n"
    }
   },
   "outputs": [],
   "source": [
    "my_formula = [some_function(i) for i in range(10)]"
   ]
  },
  {
   "cell_type": "code",
   "execution_count": 11,
   "metadata": {
    "pycharm": {
     "is_executing": false,
     "name": "#%%\n"
    }
   },
   "outputs": [
    {
     "name": "stdout",
     "output_type": "stream",
     "text": [
      "[2, 3, 3, 4, 4, 5, 5, 6, 6, 7]\n"
     ]
    }
   ],
   "source": [
    "print(my_formula)"
   ]
  },
  {
   "cell_type": "code",
   "execution_count": 13,
   "metadata": {
    "pycharm": {
     "is_executing": false,
     "name": "#%%\n"
    }
   },
   "outputs": [
    {
     "name": "stdout",
     "output_type": "stream",
     "text": [
      "[0, 2, 4, 6, 8, 10, 12, 14, 16, 18]\n"
     ]
    }
   ],
   "source": [
    "filtered = [i for i in range(20) if i%2 == 0]\n",
    "print(filtered)"
   ]
  },
  {
   "cell_type": "code",
   "execution_count": 14,
   "metadata": {
    "pycharm": {
     "is_executing": false,
     "name": "#%%\n"
    }
   },
   "outputs": [
    {
     "name": "stdout",
     "output_type": "stream",
     "text": [
      "48\n"
     ]
    }
   ],
   "source": [
    "# Check memory usage of your objects.\n",
    "mylist = range(0, 10000)\n",
    "print(sys.getsizeof(mylist))"
   ]
  },
  {
   "cell_type": "code",
   "execution_count": 15,
   "metadata": {
    "pycharm": {
     "is_executing": false,
     "name": "#%%\n"
    }
   },
   "outputs": [
    {
     "name": "stdout",
     "output_type": "stream",
     "text": [
      "87624\n"
     ]
    }
   ],
   "source": [
    "my_saved_list = [i for i in range(0, 10000)]\n",
    "print(sys.getsizeof(my_saved_list))"
   ]
  },
  {
   "cell_type": "code",
   "execution_count": 19,
   "metadata": {
    "pycharm": {
     "is_executing": false,
     "name": "#%%\n"
    }
   },
   "outputs": [],
   "source": [
    "# Return multiple values from the function itself\n",
    "\n",
    "def get_user_details(id):\n",
    "    # Fetch the records from the DB\n",
    "    if id == 4:\n",
    "        user_name = 'Samir'\n",
    "        user_dob = '12/31/9999'\n",
    "    return user_name, user_dob\n",
    "\n",
    "name, birthdate = get_user_details(4)"
   ]
  },
  {
   "cell_type": "code",
   "execution_count": 21,
   "metadata": {
    "pycharm": {
     "is_executing": false,
     "name": "#%%\n"
    }
   },
   "outputs": [
    {
     "name": "stdout",
     "output_type": "stream",
     "text": [
      "True\n",
      "Q\n",
      "Card(rank='Q', suit='hearts')\n"
     ]
    }
   ],
   "source": [
    "from dataclasses import dataclass\n",
    "\n",
    "@dataclass\n",
    "class Card:\n",
    "    rank: str\n",
    "    suit: str\n",
    "    \n",
    "card = Card('Q','hearts')\n",
    "\n",
    "print(card == card)\n",
    "\n",
    "print(card.rank)\n",
    "\n",
    "print(card)\n"
   ]
  },
  {
   "cell_type": "code",
   "execution_count": 22,
   "metadata": {
    "pycharm": {
     "is_executing": false,
     "name": "#%%\n"
    }
   },
   "outputs": [
    {
     "name": "stdout",
     "output_type": "stream",
     "text": [
      "2\n",
      "1\n"
     ]
    }
   ],
   "source": [
    "# In place variable swapping\n",
    "a = 1\n",
    "b = 2\n",
    "\n",
    "a,b = b,a\n",
    "\n",
    "print(a)\n",
    "print(b)\n",
    "\n",
    "\n"
   ]
  },
  {
   "cell_type": "code",
   "execution_count": 23,
   "metadata": {
    "pycharm": {
     "is_executing": false,
     "name": "#%%\n"
    }
   },
   "outputs": [
    {
     "name": "stdout",
     "output_type": "stream",
     "text": [
      "{'a': 1, 'b': 3, 'c': 4}\n"
     ]
    }
   ],
   "source": [
    "# Merging dictionaries in one liner\n",
    "\n",
    "dict_1 = {'a': 1, 'b': 2}\n",
    "dict_2 = {'b': 3, 'c': 4}\n",
    "\n",
    "merged_dict = {**dict_1, **dict_2}\n",
    "\n",
    "print(merged_dict)"
   ]
  },
  {
   "cell_type": "code",
   "execution_count": 24,
   "metadata": {
    "pycharm": {
     "is_executing": false,
     "name": "#%%\n"
    }
   },
   "outputs": [
    {
     "name": "stdout",
     "output_type": "stream",
     "text": [
      "My Python Is Really Strong\n"
     ]
    }
   ],
   "source": [
    "my_string = \"my python is really strong\"\n",
    "print(my_string.title())"
   ]
  },
  {
   "cell_type": "code",
   "execution_count": 28,
   "metadata": {
    "pycharm": {
     "is_executing": false,
     "name": "#%%\n"
    }
   },
   "outputs": [
    {
     "name": "stdout",
     "output_type": "stream",
     "text": [
      "['A', 'quick', 'brown', 'fox']\n",
      "A quick brown fox\n"
     ]
    }
   ],
   "source": [
    "my_sentence = \"A quick brown fox\"\n",
    "my_sent_list = my_sentence.split(' ')\n",
    "print(my_sent_list)\n",
    "\n",
    "# Now join it back\n",
    "new_sentence = ' '.join(my_sent_list)\n",
    "print(new_sentence)"
   ]
  },
  {
   "cell_type": "code",
   "execution_count": 29,
   "metadata": {
    "pycharm": {
     "is_executing": false,
     "name": "#%%\n"
    }
   },
   "outputs": [
    {
     "name": "stdout",
     "output_type": "stream",
     "text": [
      "Collecting emoji\r\n",
      "\u001b[?25l  Downloading https://files.pythonhosted.org/packages/40/8d/521be7f0091fe0f2ae690cc044faf43e3445e0ff33c574eae752dd7e39fa/emoji-0.5.4.tar.gz (43kB)\r\n",
      "\r",
      "\u001b[K     |███████▌                        | 10kB 3.7MB/s eta 0:00:01\r",
      "\u001b[K     |███████████████                 | 20kB 3.2MB/s eta 0:00:01\r",
      "\u001b[K     |██████████████████████▋         | 30kB 2.9MB/s eta 0:00:01\r",
      "\u001b[K     |██████████████████████████████▏ | 40kB 3.4MB/s eta 0:00:01\r",
      "\u001b[K     |████████████████████████████████| 51kB 3.0MB/s \r\n",
      "\u001b[?25hBuilding wheels for collected packages: emoji\r\n",
      "  Building wheel for emoji (setup.py) ... \u001b[?25l-\b \b\\\b \bdone\r\n",
      "\u001b[?25h  Created wheel for emoji: filename=emoji-0.5.4-cp37-none-any.whl size=42176 sha256=ff95050b6e1d151416de0f1a6722289e5427d1d33d9c597c9fe7c981738eb16e\r\n",
      "  Stored in directory: /Users/saryamane/Library/Caches/pip/wheels/2a/a9/0a/4f8e8cce8074232aba240caca3fade315bb49fac68808d1a9c\r\n",
      "Successfully built emoji\r\n",
      "Installing collected packages: emoji\r\n",
      "Successfully installed emoji-0.5.4\r\n"
     ]
    }
   ],
   "source": [
    "# Lets put some emoji into our python code.\n",
    "!pip3 install emoji"
   ]
  },
  {
   "cell_type": "code",
   "execution_count": 30,
   "metadata": {
    "pycharm": {
     "is_executing": false,
     "name": "#%%\n"
    }
   },
   "outputs": [
    {
     "name": "stdout",
     "output_type": "stream",
     "text": [
      "Python is 👍\n",
      "Python is :thumbs_up:\n"
     ]
    }
   ],
   "source": [
    "import emoji\n",
    "result = emoji.emojize('Python is :thumbs_up:')\n",
    "print(result)\n",
    "\n",
    "# You can also reverse this:\n",
    "result = emoji.demojize('Python is 👍')\n",
    "print(result)"
   ]
  },
  {
   "cell_type": "code",
   "execution_count": 31,
   "metadata": {
    "pycharm": {
     "is_executing": false,
     "name": "#%%\n"
    }
   },
   "outputs": [
    {
     "name": "stdout",
     "output_type": "stream",
     "text": [
      "Collecting Pillow\r\n",
      "\u001b[?25l  Downloading https://files.pythonhosted.org/packages/0c/43/b52847e473ac6cbd10a749b63018b2bb08b55c6e1a1923872361443906de/Pillow-7.0.0-cp37-cp37m-macosx_10_6_intel.whl (3.9MB)\r\n",
      "\r",
      "\u001b[K     |                                | 10kB 2.8MB/s eta 0:00:02\r",
      "\u001b[K     |▏                               | 20kB 2.8MB/s eta 0:00:02\r",
      "\u001b[K     |▎                               | 30kB 1.8MB/s eta 0:00:03\r",
      "\u001b[K     |▎                               | 40kB 1.6MB/s eta 0:00:03\r",
      "\u001b[K     |▍                               | 51kB 1.3MB/s eta 0:00:03\r",
      "\u001b[K     |▌                               | 61kB 1.4MB/s eta 0:00:03\r",
      "\u001b[K     |▋                               | 71kB 1.6MB/s eta 0:00:03\r",
      "\u001b[K     |▋                               | 81kB 1.7MB/s eta 0:00:03\r",
      "\u001b[K     |▊                               | 92kB 1.8MB/s eta 0:00:03\r",
      "\u001b[K     |▉                               | 102kB 1.8MB/s eta 0:00:03\r",
      "\u001b[K     |█                               | 112kB 1.8MB/s eta 0:00:03\r",
      "\u001b[K     |█                               | 122kB 1.8MB/s eta 0:00:03\r",
      "\u001b[K     |█                               | 133kB 1.8MB/s eta 0:00:03\r",
      "\u001b[K     |█▏                              | 143kB 1.8MB/s eta 0:00:03\r",
      "\u001b[K     |█▎                              | 153kB 1.8MB/s eta 0:00:03\r",
      "\u001b[K     |█▎                              | 163kB 1.8MB/s eta 0:00:03\r",
      "\u001b[K     |█▍                              | 174kB 1.8MB/s eta 0:00:03\r",
      "\u001b[K     |█▌                              | 184kB 1.8MB/s eta 0:00:03\r",
      "\u001b[K     |█▋                              | 194kB 1.8MB/s eta 0:00:03\r",
      "\u001b[K     |█▋                              | 204kB 1.8MB/s eta 0:00:03\r",
      "\u001b[K     |█▊                              | 215kB 1.8MB/s eta 0:00:03\r",
      "\u001b[K     |█▉                              | 225kB 1.8MB/s eta 0:00:03\r",
      "\u001b[K     |██                              | 235kB 1.8MB/s eta 0:00:03\r",
      "\u001b[K     |██                              | 245kB 1.8MB/s eta 0:00:03\r",
      "\u001b[K     |██                              | 256kB 1.8MB/s eta 0:00:03\r",
      "\u001b[K     |██▏                             | 266kB 1.8MB/s eta 0:00:03\r",
      "\u001b[K     |██▎                             | 276kB 1.8MB/s eta 0:00:03\r",
      "\u001b[K     |██▎                             | 286kB 1.8MB/s eta 0:00:02\r",
      "\u001b[K     |██▍                             | 296kB 1.8MB/s eta 0:00:02\r",
      "\u001b[K     |██▌                             | 307kB 1.8MB/s eta 0:00:02\r",
      "\u001b[K     |██▋                             | 317kB 1.8MB/s eta 0:00:02\r",
      "\u001b[K     |██▋                             | 327kB 1.8MB/s eta 0:00:02\r",
      "\u001b[K     |██▊                             | 337kB 1.8MB/s eta 0:00:02\r",
      "\u001b[K     |██▉                             | 348kB 1.8MB/s eta 0:00:02\r",
      "\u001b[K     |███                             | 358kB 1.8MB/s eta 0:00:02\r",
      "\u001b[K     |███                             | 368kB 1.8MB/s eta 0:00:02\r",
      "\u001b[K     |███                             | 378kB 1.8MB/s eta 0:00:02\r",
      "\u001b[K     |███▏                            | 389kB 1.8MB/s eta 0:00:02\r",
      "\u001b[K     |███▎                            | 399kB 1.8MB/s eta 0:00:02\r",
      "\u001b[K     |███▎                            | 409kB 1.8MB/s eta 0:00:02\r",
      "\u001b[K     |███▍                            | 419kB 1.8MB/s eta 0:00:02\r",
      "\u001b[K     |███▌                            | 430kB 1.8MB/s eta 0:00:02\r",
      "\u001b[K     |███▋                            | 440kB 1.8MB/s eta 0:00:02\r",
      "\u001b[K     |███▋                            | 450kB 1.8MB/s eta 0:00:02\r",
      "\u001b[K     |███▊                            | 460kB 1.8MB/s eta 0:00:02\r",
      "\u001b[K     |███▉                            | 471kB 1.8MB/s eta 0:00:02\r",
      "\u001b[K     |████                            | 481kB 1.8MB/s eta 0:00:02\r",
      "\u001b[K     |████                            | 491kB 1.8MB/s eta 0:00:02\r",
      "\u001b[K     |████                            | 501kB 1.8MB/s eta 0:00:02\r",
      "\u001b[K     |████▏                           | 512kB 1.8MB/s eta 0:00:02\r",
      "\u001b[K     |████▎                           | 522kB 1.8MB/s eta 0:00:02\r",
      "\u001b[K     |████▎                           | 532kB 1.8MB/s eta 0:00:02\r",
      "\u001b[K     |████▍                           | 542kB 1.8MB/s eta 0:00:02\r",
      "\u001b[K     |████▌                           | 552kB 1.8MB/s eta 0:00:02\r",
      "\u001b[K     |████▋                           | 563kB 1.8MB/s eta 0:00:02\r",
      "\u001b[K     |████▋                           | 573kB 1.8MB/s eta 0:00:02\r",
      "\u001b[K     |████▊                           | 583kB 1.8MB/s eta 0:00:02\r",
      "\u001b[K     |████▉                           | 593kB 1.8MB/s eta 0:00:02\r",
      "\u001b[K     |█████                           | 604kB 1.8MB/s eta 0:00:02\r",
      "\u001b[K     |█████                           | 614kB 1.8MB/s eta 0:00:02\r",
      "\u001b[K     |█████                           | 624kB 1.8MB/s eta 0:00:02\r",
      "\u001b[K     |█████▏                          | 634kB 1.8MB/s eta 0:00:02\r",
      "\u001b[K     |█████▎                          | 645kB 1.8MB/s eta 0:00:02\r",
      "\u001b[K     |█████▎                          | 655kB 1.8MB/s eta 0:00:02\r",
      "\u001b[K     |█████▍                          | 665kB 1.8MB/s eta 0:00:02\r",
      "\u001b[K     |█████▌                          | 675kB 1.8MB/s eta 0:00:02\r",
      "\u001b[K     |█████▋                          | 686kB 1.8MB/s eta 0:00:02\r",
      "\u001b[K     |█████▋                          | 696kB 1.8MB/s eta 0:00:02\r",
      "\u001b[K     |█████▊                          | 706kB 1.8MB/s eta 0:00:02\r",
      "\u001b[K     |█████▉                          | 716kB 1.8MB/s eta 0:00:02\r",
      "\u001b[K     |██████                          | 727kB 1.8MB/s eta 0:00:02\r",
      "\u001b[K     |██████                          | 737kB 1.8MB/s eta 0:00:02\r",
      "\u001b[K     |██████                          | 747kB 1.8MB/s eta 0:00:02\r",
      "\u001b[K     |██████▏                         | 757kB 1.8MB/s eta 0:00:02\r",
      "\u001b[K     |██████▎                         | 768kB 1.8MB/s eta 0:00:02\r",
      "\u001b[K     |██████▎                         | 778kB 1.8MB/s eta 0:00:02\r",
      "\u001b[K     |██████▍                         | 788kB 1.8MB/s eta 0:00:02\r",
      "\u001b[K     |██████▌                         | 798kB 1.8MB/s eta 0:00:02\r",
      "\u001b[K     |██████▋                         | 808kB 1.8MB/s eta 0:00:02\r",
      "\u001b[K     |██████▋                         | 819kB 1.8MB/s eta 0:00:02\r",
      "\u001b[K     |██████▊                         | 829kB 1.8MB/s eta 0:00:02\r",
      "\u001b[K     |██████▉                         | 839kB 1.8MB/s eta 0:00:02\r",
      "\u001b[K     |███████                         | 849kB 1.8MB/s eta 0:00:02\r",
      "\u001b[K     |███████                         | 860kB 1.8MB/s eta 0:00:02\r",
      "\u001b[K     |███████                         | 870kB 1.8MB/s eta 0:00:02\r",
      "\u001b[K     |███████▏                        | 880kB 1.8MB/s eta 0:00:02\r",
      "\u001b[K     |███████▎                        | 890kB 1.8MB/s eta 0:00:02\r",
      "\u001b[K     |███████▎                        | 901kB 1.8MB/s eta 0:00:02\r",
      "\u001b[K     |███████▍                        | 911kB 1.8MB/s eta 0:00:02\r",
      "\u001b[K     |███████▌                        | 921kB 1.8MB/s eta 0:00:02\r",
      "\u001b[K     |███████▋                        | 931kB 1.8MB/s eta 0:00:02\r",
      "\u001b[K     |███████▋                        | 942kB 1.8MB/s eta 0:00:02\r",
      "\u001b[K     |███████▊                        | 952kB 1.8MB/s eta 0:00:02\r",
      "\u001b[K     |███████▉                        | 962kB 1.8MB/s eta 0:00:02\r",
      "\u001b[K     |████████                        | 972kB 1.8MB/s eta 0:00:02\r",
      "\u001b[K     |████████                        | 983kB 1.8MB/s eta 0:00:02\r",
      "\u001b[K     |████████                        | 993kB 1.8MB/s eta 0:00:02\r",
      "\u001b[K     |████████▏                       | 1.0MB 1.8MB/s eta 0:00:02\r",
      "\u001b[K     |████████▎                       | 1.0MB 1.8MB/s eta 0:00:02\r",
      "\u001b[K     |████████▎                       | 1.0MB 1.8MB/s eta 0:00:02\r",
      "\u001b[K     |████████▍                       | 1.0MB 1.8MB/s eta 0:00:02\r",
      "\u001b[K     |████████▌                       | 1.0MB 1.8MB/s eta 0:00:02\r",
      "\u001b[K     |████████▋                       | 1.1MB 1.8MB/s eta 0:00:02\r",
      "\u001b[K     |████████▋                       | 1.1MB 1.8MB/s eta 0:00:02\r",
      "\u001b[K     |████████▊                       | 1.1MB 1.8MB/s eta 0:00:02\r",
      "\u001b[K     |████████▉                       | 1.1MB 1.8MB/s eta 0:00:02\r",
      "\u001b[K     |█████████                       | 1.1MB 1.8MB/s eta 0:00:02\r",
      "\u001b[K     |█████████                       | 1.1MB 1.8MB/s eta 0:00:02\r",
      "\u001b[K     |█████████                       | 1.1MB 1.8MB/s eta 0:00:02\r",
      "\u001b[K     |█████████▏                      | 1.1MB 1.8MB/s eta 0:00:02\r",
      "\u001b[K     |█████████▎                      | 1.1MB 1.8MB/s eta 0:00:02\r",
      "\u001b[K     |█████████▎                      | 1.1MB 1.8MB/s eta 0:00:02\r",
      "\u001b[K     |█████████▍                      | 1.2MB 1.8MB/s eta 0:00:02\r",
      "\u001b[K     |█████████▌                      | 1.2MB 1.8MB/s eta 0:00:02\r",
      "\u001b[K     |█████████▋                      | 1.2MB 1.8MB/s eta 0:00:02\r",
      "\u001b[K     |█████████▋                      | 1.2MB 1.8MB/s eta 0:00:02\r",
      "\u001b[K     |█████████▊                      | 1.2MB 1.8MB/s eta 0:00:02\r",
      "\u001b[K     |█████████▉                      | 1.2MB 1.8MB/s eta 0:00:02\r",
      "\u001b[K     |██████████                      | 1.2MB 1.8MB/s eta 0:00:02\r",
      "\u001b[K     |██████████                      | 1.2MB 1.8MB/s eta 0:00:02\r",
      "\u001b[K     |██████████                      | 1.2MB 1.8MB/s eta 0:00:02\r",
      "\u001b[K     |██████████▏                     | 1.2MB 1.8MB/s eta 0:00:02\r",
      "\u001b[K     |██████████▎                     | 1.3MB 1.8MB/s eta 0:00:02\r",
      "\u001b[K     |██████████▎                     | 1.3MB 1.8MB/s eta 0:00:02\r",
      "\u001b[K     |██████████▍                     | 1.3MB 1.8MB/s eta 0:00:02\r",
      "\u001b[K     |██████████▌                     | 1.3MB 1.8MB/s eta 0:00:02\r",
      "\u001b[K     |██████████▋                     | 1.3MB 1.8MB/s eta 0:00:02\r",
      "\u001b[K     |██████████▋                     | 1.3MB 1.8MB/s eta 0:00:02\r",
      "\u001b[K     |██████████▊                     | 1.3MB 1.8MB/s eta 0:00:02\r",
      "\u001b[K     |██████████▉                     | 1.3MB 1.8MB/s eta 0:00:02\r",
      "\u001b[K     |███████████                     | 1.3MB 1.8MB/s eta 0:00:02\r",
      "\u001b[K     |███████████                     | 1.4MB 1.8MB/s eta 0:00:02\r",
      "\u001b[K     |███████████                     | 1.4MB 1.8MB/s eta 0:00:02\r",
      "\u001b[K     |███████████▏                    | 1.4MB 1.8MB/s eta 0:00:02\r",
      "\u001b[K     |███████████▎                    | 1.4MB 1.8MB/s eta 0:00:02\r",
      "\u001b[K     |███████████▎                    | 1.4MB 1.8MB/s eta 0:00:02\r",
      "\u001b[K     |███████████▍                    | 1.4MB 1.8MB/s eta 0:00:02\r",
      "\u001b[K     |███████████▌                    | 1.4MB 1.8MB/s eta 0:00:02\r",
      "\u001b[K     |███████████▋                    | 1.4MB 1.8MB/s eta 0:00:02\r",
      "\u001b[K     |███████████▋                    | 1.4MB 1.8MB/s eta 0:00:02\r",
      "\u001b[K     |███████████▊                    | 1.4MB 1.8MB/s eta 0:00:02\r",
      "\u001b[K     |███████████▉                    | 1.5MB 1.8MB/s eta 0:00:02\r",
      "\u001b[K     |████████████                    | 1.5MB 1.8MB/s eta 0:00:02\r",
      "\u001b[K     |████████████                    | 1.5MB 1.8MB/s eta 0:00:02\r",
      "\u001b[K     |████████████                    | 1.5MB 1.8MB/s eta 0:00:02\r",
      "\u001b[K     |████████████▏                   | 1.5MB 1.8MB/s eta 0:00:02\r",
      "\u001b[K     |████████████▎                   | 1.5MB 1.8MB/s eta 0:00:02\r",
      "\u001b[K     |████████████▎                   | 1.5MB 1.8MB/s eta 0:00:02\r",
      "\u001b[K     |████████████▍                   | 1.5MB 1.8MB/s eta 0:00:02\r",
      "\u001b[K     |████████████▌                   | 1.5MB 1.8MB/s eta 0:00:02\r",
      "\u001b[K     |████████████▋                   | 1.5MB 1.8MB/s eta 0:00:02\r",
      "\u001b[K     |████████████▋                   | 1.6MB 1.8MB/s eta 0:00:02\r",
      "\u001b[K     |████████████▊                   | 1.6MB 1.8MB/s eta 0:00:02\r",
      "\u001b[K     |████████████▉                   | 1.6MB 1.8MB/s eta 0:00:02\r",
      "\u001b[K     |█████████████                   | 1.6MB 1.8MB/s eta 0:00:02\r",
      "\u001b[K     |█████████████                   | 1.6MB 1.8MB/s eta 0:00:02\r",
      "\u001b[K     |█████████████                   | 1.6MB 1.8MB/s eta 0:00:02\r",
      "\u001b[K     |█████████████▏                  | 1.6MB 1.8MB/s eta 0:00:02\r",
      "\u001b[K     |█████████████▎                  | 1.6MB 1.8MB/s eta 0:00:02\r",
      "\u001b[K     |█████████████▎                  | 1.6MB 1.8MB/s eta 0:00:02\r",
      "\u001b[K     |█████████████▍                  | 1.6MB 1.8MB/s eta 0:00:02\r",
      "\u001b[K     |█████████████▌                  | 1.7MB 1.8MB/s eta 0:00:02\r",
      "\u001b[K     |█████████████▋                  | 1.7MB 1.8MB/s eta 0:00:02\r",
      "\u001b[K     |█████████████▋                  | 1.7MB 1.8MB/s eta 0:00:02\r",
      "\u001b[K     |█████████████▊                  | 1.7MB 1.8MB/s eta 0:00:02\r",
      "\u001b[K     |█████████████▉                  | 1.7MB 1.8MB/s eta 0:00:02\r",
      "\u001b[K     |██████████████                  | 1.7MB 1.8MB/s eta 0:00:02\r",
      "\u001b[K     |██████████████                  | 1.7MB 1.8MB/s eta 0:00:02\r",
      "\u001b[K     |██████████████                  | 1.7MB 1.8MB/s eta 0:00:02\r",
      "\u001b[K     |██████████████▏                 | 1.7MB 1.8MB/s eta 0:00:02\r",
      "\u001b[K     |██████████████▎                 | 1.8MB 1.8MB/s eta 0:00:02\r",
      "\u001b[K     |██████████████▎                 | 1.8MB 1.8MB/s eta 0:00:02\r",
      "\u001b[K     |██████████████▍                 | 1.8MB 1.8MB/s eta 0:00:02\r",
      "\u001b[K     |██████████████▌                 | 1.8MB 1.8MB/s eta 0:00:02\r",
      "\u001b[K     |██████████████▋                 | 1.8MB 1.8MB/s eta 0:00:02\r",
      "\u001b[K     |██████████████▋                 | 1.8MB 1.8MB/s eta 0:00:02\r",
      "\u001b[K     |██████████████▊                 | 1.8MB 1.8MB/s eta 0:00:02\r",
      "\u001b[K     |██████████████▉                 | 1.8MB 1.8MB/s eta 0:00:02\r",
      "\u001b[K     |███████████████                 | 1.8MB 1.8MB/s eta 0:00:02\r",
      "\u001b[K     |███████████████                 | 1.8MB 1.8MB/s eta 0:00:02\r",
      "\u001b[K     |███████████████                 | 1.9MB 1.8MB/s eta 0:00:02\r",
      "\u001b[K     |███████████████▏                | 1.9MB 1.8MB/s eta 0:00:02\r",
      "\u001b[K     |███████████████▎                | 1.9MB 1.8MB/s eta 0:00:02\r",
      "\u001b[K     |███████████████▎                | 1.9MB 1.8MB/s eta 0:00:02\r",
      "\u001b[K     |███████████████▍                | 1.9MB 1.8MB/s eta 0:00:02\r",
      "\u001b[K     |███████████████▌                | 1.9MB 1.8MB/s eta 0:00:02\r",
      "\u001b[K     |███████████████▋                | 1.9MB 1.8MB/s eta 0:00:02\r",
      "\u001b[K     |███████████████▋                | 1.9MB 1.8MB/s eta 0:00:02\r",
      "\u001b[K     |███████████████▊                | 1.9MB 1.8MB/s eta 0:00:02\r",
      "\u001b[K     |███████████████▉                | 1.9MB 1.8MB/s eta 0:00:02\r",
      "\u001b[K     |████████████████                | 2.0MB 1.8MB/s eta 0:00:02\r",
      "\u001b[K     |████████████████                | 2.0MB 1.8MB/s eta 0:00:02\r",
      "\u001b[K     |████████████████                | 2.0MB 1.8MB/s eta 0:00:02\r",
      "\u001b[K     |████████████████▏               | 2.0MB 1.8MB/s eta 0:00:02\r",
      "\u001b[K     |████████████████▎               | 2.0MB 1.8MB/s eta 0:00:02\r",
      "\u001b[K     |████████████████▎               | 2.0MB 1.8MB/s eta 0:00:02\r",
      "\u001b[K     |████████████████▍               | 2.0MB 1.8MB/s eta 0:00:02\r",
      "\u001b[K     |████████████████▌               | 2.0MB 1.8MB/s eta 0:00:02\r",
      "\u001b[K     |████████████████▋               | 2.0MB 1.8MB/s eta 0:00:02\r",
      "\u001b[K     |████████████████▋               | 2.0MB 1.8MB/s eta 0:00:02\r",
      "\u001b[K     |████████████████▊               | 2.1MB 1.8MB/s eta 0:00:02\r",
      "\u001b[K     |████████████████▉               | 2.1MB 1.8MB/s eta 0:00:02\r",
      "\u001b[K     |█████████████████               | 2.1MB 1.8MB/s eta 0:00:02\r",
      "\u001b[K     |█████████████████               | 2.1MB 1.8MB/s eta 0:00:02\r",
      "\u001b[K     |█████████████████               | 2.1MB 1.8MB/s eta 0:00:02\r",
      "\u001b[K     |█████████████████▏              | 2.1MB 1.8MB/s eta 0:00:02\r",
      "\u001b[K     |█████████████████▎              | 2.1MB 1.8MB/s eta 0:00:01\r",
      "\u001b[K     |█████████████████▎              | 2.1MB 1.8MB/s eta 0:00:01\r",
      "\u001b[K     |█████████████████▍              | 2.1MB 1.8MB/s eta 0:00:01\r",
      "\u001b[K     |█████████████████▌              | 2.2MB 1.8MB/s eta 0:00:01\r",
      "\u001b[K     |█████████████████▋              | 2.2MB 1.8MB/s eta 0:00:01\r",
      "\u001b[K     |█████████████████▋              | 2.2MB 1.8MB/s eta 0:00:01\r",
      "\u001b[K     |█████████████████▊              | 2.2MB 1.8MB/s eta 0:00:01\r",
      "\u001b[K     |█████████████████▉              | 2.2MB 1.8MB/s eta 0:00:01\r",
      "\u001b[K     |██████████████████              | 2.2MB 1.8MB/s eta 0:00:01\r",
      "\u001b[K     |██████████████████              | 2.2MB 1.8MB/s eta 0:00:01\r",
      "\u001b[K     |██████████████████              | 2.2MB 1.8MB/s eta 0:00:01\r",
      "\u001b[K     |██████████████████▏             | 2.2MB 1.8MB/s eta 0:00:01\r",
      "\u001b[K     |██████████████████▎             | 2.2MB 1.8MB/s eta 0:00:01\r",
      "\u001b[K     |██████████████████▎             | 2.3MB 1.8MB/s eta 0:00:01\r",
      "\u001b[K     |██████████████████▍             | 2.3MB 1.8MB/s eta 0:00:01\r",
      "\u001b[K     |██████████████████▌             | 2.3MB 1.8MB/s eta 0:00:01\r",
      "\u001b[K     |██████████████████▋             | 2.3MB 1.8MB/s eta 0:00:01\r",
      "\u001b[K     |██████████████████▋             | 2.3MB 1.8MB/s eta 0:00:01\r",
      "\u001b[K     |██████████████████▊             | 2.3MB 1.8MB/s eta 0:00:01\r",
      "\u001b[K     |██████████████████▉             | 2.3MB 1.8MB/s eta 0:00:01\r",
      "\u001b[K     |███████████████████             | 2.3MB 1.8MB/s eta 0:00:01\r",
      "\u001b[K     |███████████████████             | 2.3MB 1.8MB/s eta 0:00:01\r",
      "\u001b[K     |███████████████████             | 2.3MB 1.8MB/s eta 0:00:01\r",
      "\u001b[K     |███████████████████▏            | 2.4MB 1.8MB/s eta 0:00:01\r",
      "\u001b[K     |███████████████████▎            | 2.4MB 1.8MB/s eta 0:00:01\r",
      "\u001b[K     |███████████████████▎            | 2.4MB 1.8MB/s eta 0:00:01\r",
      "\u001b[K     |███████████████████▍            | 2.4MB 1.8MB/s eta 0:00:01\r",
      "\u001b[K     |███████████████████▌            | 2.4MB 1.8MB/s eta 0:00:01\r",
      "\u001b[K     |███████████████████▋            | 2.4MB 1.8MB/s eta 0:00:01\r",
      "\u001b[K     |███████████████████▋            | 2.4MB 1.8MB/s eta 0:00:01\r",
      "\u001b[K     |███████████████████▊            | 2.4MB 1.8MB/s eta 0:00:01\r",
      "\u001b[K     |███████████████████▉            | 2.4MB 1.8MB/s eta 0:00:01\r",
      "\u001b[K     |███████████████████▉            | 2.4MB 1.8MB/s eta 0:00:01\r",
      "\u001b[K     |████████████████████            | 2.5MB 1.8MB/s eta 0:00:01\r",
      "\u001b[K     |████████████████████            | 2.5MB 1.8MB/s eta 0:00:01\r",
      "\u001b[K     |████████████████████▏           | 2.5MB 1.8MB/s eta 0:00:01\r",
      "\u001b[K     |████████████████████▏           | 2.5MB 1.8MB/s eta 0:00:01\r",
      "\u001b[K     |████████████████████▎           | 2.5MB 1.8MB/s eta 0:00:01\r",
      "\u001b[K     |████████████████████▍           | 2.5MB 1.8MB/s eta 0:00:01\r",
      "\u001b[K     |████████████████████▌           | 2.5MB 1.8MB/s eta 0:00:01\r",
      "\u001b[K     |████████████████████▌           | 2.5MB 1.8MB/s eta 0:00:01\r",
      "\u001b[K     |████████████████████▋           | 2.5MB 1.8MB/s eta 0:00:01\r",
      "\u001b[K     |████████████████████▊           | 2.5MB 1.8MB/s eta 0:00:01\r",
      "\u001b[K     |████████████████████▉           | 2.6MB 1.8MB/s eta 0:00:01\r",
      "\u001b[K     |████████████████████▉           | 2.6MB 1.8MB/s eta 0:00:01\r",
      "\u001b[K     |█████████████████████           | 2.6MB 1.8MB/s eta 0:00:01\r",
      "\u001b[K     |█████████████████████           | 2.6MB 1.8MB/s eta 0:00:01\r",
      "\u001b[K     |█████████████████████▏          | 2.6MB 1.8MB/s eta 0:00:01\r",
      "\u001b[K     |█████████████████████▏          | 2.6MB 1.8MB/s eta 0:00:01\r",
      "\u001b[K     |█████████████████████▎          | 2.6MB 1.8MB/s eta 0:00:01\r",
      "\u001b[K     |█████████████████████▍          | 2.6MB 1.8MB/s eta 0:00:01\r",
      "\u001b[K     |█████████████████████▌          | 2.6MB 1.8MB/s eta 0:00:01\r",
      "\u001b[K     |█████████████████████▌          | 2.7MB 1.8MB/s eta 0:00:01\r",
      "\u001b[K     |█████████████████████▋          | 2.7MB 1.8MB/s eta 0:00:01\r",
      "\u001b[K     |█████████████████████▊          | 2.7MB 1.8MB/s eta 0:00:01\r",
      "\u001b[K     |█████████████████████▉          | 2.7MB 1.8MB/s eta 0:00:01\r",
      "\u001b[K     |█████████████████████▉          | 2.7MB 1.8MB/s eta 0:00:01\r",
      "\u001b[K     |██████████████████████          | 2.7MB 1.8MB/s eta 0:00:01\r",
      "\u001b[K     |██████████████████████          | 2.7MB 1.8MB/s eta 0:00:01\r",
      "\u001b[K     |██████████████████████▏         | 2.7MB 1.8MB/s eta 0:00:01\r",
      "\u001b[K     |██████████████████████▏         | 2.7MB 1.8MB/s eta 0:00:01\r",
      "\u001b[K     |██████████████████████▎         | 2.7MB 1.8MB/s eta 0:00:01\r",
      "\u001b[K     |██████████████████████▍         | 2.8MB 1.8MB/s eta 0:00:01\r",
      "\u001b[K     |██████████████████████▌         | 2.8MB 1.8MB/s eta 0:00:01\r",
      "\u001b[K     |██████████████████████▌         | 2.8MB 1.8MB/s eta 0:00:01\r",
      "\u001b[K     |██████████████████████▋         | 2.8MB 1.8MB/s eta 0:00:01\r",
      "\u001b[K     |██████████████████████▊         | 2.8MB 1.8MB/s eta 0:00:01\r",
      "\u001b[K     |██████████████████████▉         | 2.8MB 1.8MB/s eta 0:00:01\r",
      "\u001b[K     |██████████████████████▉         | 2.8MB 1.8MB/s eta 0:00:01\r",
      "\u001b[K     |███████████████████████         | 2.8MB 1.8MB/s eta 0:00:01\r",
      "\u001b[K     |███████████████████████         | 2.8MB 1.8MB/s eta 0:00:01\r",
      "\u001b[K     |███████████████████████▏        | 2.8MB 1.8MB/s eta 0:00:01\r",
      "\u001b[K     |███████████████████████▏        | 2.9MB 1.8MB/s eta 0:00:01\r",
      "\u001b[K     |███████████████████████▎        | 2.9MB 1.8MB/s eta 0:00:01\r",
      "\u001b[K     |███████████████████████▍        | 2.9MB 1.8MB/s eta 0:00:01\r",
      "\u001b[K     |███████████████████████▌        | 2.9MB 1.8MB/s eta 0:00:01\r",
      "\u001b[K     |███████████████████████▌        | 2.9MB 1.8MB/s eta 0:00:01\r",
      "\u001b[K     |███████████████████████▋        | 2.9MB 1.8MB/s eta 0:00:01\r",
      "\u001b[K     |███████████████████████▊        | 2.9MB 1.8MB/s eta 0:00:01\r",
      "\u001b[K     |███████████████████████▉        | 2.9MB 1.8MB/s eta 0:00:01\r",
      "\u001b[K     |███████████████████████▉        | 2.9MB 1.8MB/s eta 0:00:01\r",
      "\u001b[K     |████████████████████████        | 2.9MB 1.8MB/s eta 0:00:01\r",
      "\u001b[K     |████████████████████████        | 3.0MB 1.8MB/s eta 0:00:01\r",
      "\u001b[K     |████████████████████████▏       | 3.0MB 1.8MB/s eta 0:00:01\r",
      "\u001b[K     |████████████████████████▏       | 3.0MB 1.8MB/s eta 0:00:01\r",
      "\u001b[K     |████████████████████████▎       | 3.0MB 1.8MB/s eta 0:00:01\r",
      "\u001b[K     |████████████████████████▍       | 3.0MB 1.8MB/s eta 0:00:01\r",
      "\u001b[K     |████████████████████████▌       | 3.0MB 1.8MB/s eta 0:00:01\r",
      "\u001b[K     |████████████████████████▌       | 3.0MB 1.8MB/s eta 0:00:01\r",
      "\u001b[K     |████████████████████████▋       | 3.0MB 1.8MB/s eta 0:00:01\r",
      "\u001b[K     |████████████████████████▊       | 3.0MB 1.8MB/s eta 0:00:01\r",
      "\u001b[K     |████████████████████████▉       | 3.1MB 1.8MB/s eta 0:00:01\r",
      "\u001b[K     |████████████████████████▉       | 3.1MB 1.8MB/s eta 0:00:01\r",
      "\u001b[K     |█████████████████████████       | 3.1MB 1.8MB/s eta 0:00:01\r",
      "\u001b[K     |█████████████████████████       | 3.1MB 1.8MB/s eta 0:00:01\r",
      "\u001b[K     |█████████████████████████▏      | 3.1MB 1.8MB/s eta 0:00:01\r",
      "\u001b[K     |█████████████████████████▏      | 3.1MB 1.8MB/s eta 0:00:01\r",
      "\u001b[K     |█████████████████████████▎      | 3.1MB 1.8MB/s eta 0:00:01\r",
      "\u001b[K     |█████████████████████████▍      | 3.1MB 1.8MB/s eta 0:00:01\r",
      "\u001b[K     |█████████████████████████▌      | 3.1MB 1.8MB/s eta 0:00:01\r",
      "\u001b[K     |█████████████████████████▌      | 3.1MB 1.8MB/s eta 0:00:01\r",
      "\u001b[K     |█████████████████████████▋      | 3.2MB 1.8MB/s eta 0:00:01\r",
      "\u001b[K     |█████████████████████████▊      | 3.2MB 1.8MB/s eta 0:00:01\r",
      "\u001b[K     |█████████████████████████▉      | 3.2MB 1.8MB/s eta 0:00:01\r",
      "\u001b[K     |█████████████████████████▉      | 3.2MB 1.8MB/s eta 0:00:01\r",
      "\u001b[K     |██████████████████████████      | 3.2MB 1.8MB/s eta 0:00:01\r",
      "\u001b[K     |██████████████████████████      | 3.2MB 1.8MB/s eta 0:00:01\r",
      "\u001b[K     |██████████████████████████▏     | 3.2MB 1.8MB/s eta 0:00:01\r",
      "\u001b[K     |██████████████████████████▏     | 3.2MB 1.8MB/s eta 0:00:01\r",
      "\u001b[K     |██████████████████████████▎     | 3.2MB 1.8MB/s eta 0:00:01\r",
      "\u001b[K     |██████████████████████████▍     | 3.2MB 1.8MB/s eta 0:00:01\r",
      "\u001b[K     |██████████████████████████▌     | 3.3MB 1.8MB/s eta 0:00:01\r",
      "\u001b[K     |██████████████████████████▌     | 3.3MB 1.8MB/s eta 0:00:01\r",
      "\u001b[K     |██████████████████████████▋     | 3.3MB 1.8MB/s eta 0:00:01\r",
      "\u001b[K     |██████████████████████████▊     | 3.3MB 1.8MB/s eta 0:00:01\r",
      "\u001b[K     |██████████████████████████▉     | 3.3MB 1.8MB/s eta 0:00:01\r",
      "\u001b[K     |██████████████████████████▉     | 3.3MB 1.8MB/s eta 0:00:01\r",
      "\u001b[K     |███████████████████████████     | 3.3MB 1.8MB/s eta 0:00:01\r",
      "\u001b[K     |███████████████████████████     | 3.3MB 1.8MB/s eta 0:00:01\r",
      "\u001b[K     |███████████████████████████▏    | 3.3MB 1.8MB/s eta 0:00:01\r",
      "\u001b[K     |███████████████████████████▏    | 3.3MB 1.8MB/s eta 0:00:01\r",
      "\u001b[K     |███████████████████████████▎    | 3.4MB 1.8MB/s eta 0:00:01\r",
      "\u001b[K     |███████████████████████████▍    | 3.4MB 1.8MB/s eta 0:00:01\r",
      "\u001b[K     |███████████████████████████▌    | 3.4MB 1.8MB/s eta 0:00:01\r",
      "\u001b[K     |███████████████████████████▌    | 3.4MB 1.8MB/s eta 0:00:01\r",
      "\u001b[K     |███████████████████████████▋    | 3.4MB 1.8MB/s eta 0:00:01\r",
      "\u001b[K     |███████████████████████████▊    | 3.4MB 1.8MB/s eta 0:00:01\r",
      "\u001b[K     |███████████████████████████▉    | 3.4MB 1.8MB/s eta 0:00:01\r",
      "\u001b[K     |███████████████████████████▉    | 3.4MB 1.8MB/s eta 0:00:01\r",
      "\u001b[K     |████████████████████████████    | 3.4MB 1.8MB/s eta 0:00:01\r",
      "\u001b[K     |████████████████████████████    | 3.5MB 1.8MB/s eta 0:00:01\r",
      "\u001b[K     |████████████████████████████▏   | 3.5MB 1.8MB/s eta 0:00:01\r",
      "\u001b[K     |████████████████████████████▏   | 3.5MB 1.8MB/s eta 0:00:01\r",
      "\u001b[K     |████████████████████████████▎   | 3.5MB 1.8MB/s eta 0:00:01\r",
      "\u001b[K     |████████████████████████████▍   | 3.5MB 1.8MB/s eta 0:00:01\r",
      "\u001b[K     |████████████████████████████▌   | 3.5MB 1.8MB/s eta 0:00:01\r",
      "\u001b[K     |████████████████████████████▌   | 3.5MB 1.8MB/s eta 0:00:01\r",
      "\u001b[K     |████████████████████████████▋   | 3.5MB 1.8MB/s eta 0:00:01\r",
      "\u001b[K     |████████████████████████████▊   | 3.5MB 1.8MB/s eta 0:00:01\r",
      "\u001b[K     |████████████████████████████▉   | 3.5MB 1.8MB/s eta 0:00:01\r",
      "\u001b[K     |████████████████████████████▉   | 3.6MB 1.8MB/s eta 0:00:01\r",
      "\u001b[K     |█████████████████████████████   | 3.6MB 1.8MB/s eta 0:00:01\r",
      "\u001b[K     |█████████████████████████████   | 3.6MB 1.8MB/s eta 0:00:01\r",
      "\u001b[K     |█████████████████████████████▏  | 3.6MB 1.8MB/s eta 0:00:01\r",
      "\u001b[K     |█████████████████████████████▏  | 3.6MB 1.8MB/s eta 0:00:01\r",
      "\u001b[K     |█████████████████████████████▎  | 3.6MB 1.8MB/s eta 0:00:01\r",
      "\u001b[K     |█████████████████████████████▍  | 3.6MB 1.8MB/s eta 0:00:01\r",
      "\u001b[K     |█████████████████████████████▌  | 3.6MB 1.8MB/s eta 0:00:01\r",
      "\u001b[K     |█████████████████████████████▌  | 3.6MB 1.8MB/s eta 0:00:01\r",
      "\u001b[K     |█████████████████████████████▋  | 3.6MB 1.8MB/s eta 0:00:01\r",
      "\u001b[K     |█████████████████████████████▊  | 3.7MB 1.8MB/s eta 0:00:01\r",
      "\u001b[K     |█████████████████████████████▉  | 3.7MB 1.8MB/s eta 0:00:01\r",
      "\u001b[K     |█████████████████████████████▉  | 3.7MB 1.8MB/s eta 0:00:01\r",
      "\u001b[K     |██████████████████████████████  | 3.7MB 1.8MB/s eta 0:00:01\r",
      "\u001b[K     |██████████████████████████████  | 3.7MB 1.8MB/s eta 0:00:01\r",
      "\u001b[K     |██████████████████████████████▏ | 3.7MB 1.8MB/s eta 0:00:01\r",
      "\u001b[K     |██████████████████████████████▏ | 3.7MB 1.8MB/s eta 0:00:01\r",
      "\u001b[K     |██████████████████████████████▎ | 3.7MB 1.8MB/s eta 0:00:01\r",
      "\u001b[K     |██████████████████████████████▍ | 3.7MB 1.8MB/s eta 0:00:01\r",
      "\u001b[K     |██████████████████████████████▌ | 3.7MB 1.8MB/s eta 0:00:01\r",
      "\u001b[K     |██████████████████████████████▌ | 3.8MB 1.8MB/s eta 0:00:01\r",
      "\u001b[K     |██████████████████████████████▋ | 3.8MB 1.8MB/s eta 0:00:01\r",
      "\u001b[K     |██████████████████████████████▊ | 3.8MB 1.8MB/s eta 0:00:01\r",
      "\u001b[K     |██████████████████████████████▉ | 3.8MB 1.8MB/s eta 0:00:01\r",
      "\u001b[K     |██████████████████████████████▉ | 3.8MB 1.8MB/s eta 0:00:01\r",
      "\u001b[K     |███████████████████████████████ | 3.8MB 1.8MB/s eta 0:00:01\r",
      "\u001b[K     |███████████████████████████████ | 3.8MB 1.8MB/s eta 0:00:01\r",
      "\u001b[K     |███████████████████████████████▏| 3.8MB 1.8MB/s eta 0:00:01\r",
      "\u001b[K     |███████████████████████████████▏| 3.8MB 1.8MB/s eta 0:00:01\r",
      "\u001b[K     |███████████████████████████████▎| 3.9MB 1.8MB/s eta 0:00:01\r",
      "\u001b[K     |███████████████████████████████▍| 3.9MB 1.8MB/s eta 0:00:01\r",
      "\u001b[K     |███████████████████████████████▌| 3.9MB 1.8MB/s eta 0:00:01\r",
      "\u001b[K     |███████████████████████████████▌| 3.9MB 1.8MB/s eta 0:00:01\r",
      "\u001b[K     |███████████████████████████████▋| 3.9MB 1.8MB/s eta 0:00:01\r",
      "\u001b[K     |███████████████████████████████▊| 3.9MB 1.8MB/s eta 0:00:01\r",
      "\u001b[K     |███████████████████████████████▉| 3.9MB 1.8MB/s eta 0:00:01\r",
      "\u001b[K     |███████████████████████████████▉| 3.9MB 1.8MB/s eta 0:00:01\r",
      "\u001b[K     |████████████████████████████████| 3.9MB 1.8MB/s eta 0:00:01\r",
      "\u001b[K     |████████████████████████████████| 3.9MB 1.8MB/s \r\n",
      "\u001b[?25hInstalling collected packages: Pillow\r\n",
      "Successfully installed Pillow-7.0.0\r\n"
     ]
    }
   ],
   "source": [
    "!pip3 install Pillow"
   ]
  },
  {
   "cell_type": "code",
   "execution_count": 32,
   "metadata": {
    "pycharm": {
     "is_executing": false,
     "name": "#%%\n"
    }
   },
   "outputs": [
    {
     "name": "stdout",
     "output_type": "stream",
     "text": [
      "JPEG (1920, 1068) RGB\n"
     ]
    }
   ],
   "source": [
    "from PIL import Image\n",
    "\n",
    "im = Image.open(\"kittens.jpeg\")\n",
    "im.show()\n",
    "print(im.format, im.size, im.mode)\n",
    "# JPEG (1920, 1357) RGB"
   ]
  },
  {
   "cell_type": "code",
   "execution_count": 33,
   "metadata": {
    "pycharm": {
     "is_executing": false,
     "name": "#%%\n"
    }
   },
   "outputs": [
    {
     "name": "stdout",
     "output_type": "stream",
     "text": [
      "['MY', 'SENTENCE']\n"
     ]
    }
   ],
   "source": [
    "# Using map more libraly.\n",
    "\n",
    "def upper(s):\n",
    "    return s.upper()\n",
    "\n",
    "my_list = list(map(upper, ['my','sentence']))\n",
    "\n",
    "print(my_list)"
   ]
  },
  {
   "cell_type": "code",
   "execution_count": 34,
   "metadata": {
    "pycharm": {
     "is_executing": false,
     "name": "#%%\n"
    }
   },
   "outputs": [
    {
     "name": "stdout",
     "output_type": "stream",
     "text": [
      "[1, 2, 3, 4, 5, 5]\n"
     ]
    }
   ],
   "source": [
    "list_of_int = list(map(int, \"123455\"))\n",
    "print(list_of_int)\n"
   ]
  },
  {
   "cell_type": "code",
   "execution_count": 36,
   "metadata": {
    "pycharm": {
     "is_executing": false,
     "name": "#%%\n"
    }
   },
   "outputs": [
    {
     "name": "stdout",
     "output_type": "stream",
     "text": [
      "{1, 2, 3, 4, 5}\n"
     ]
    }
   ],
   "source": [
    "print(set(list_of_int))"
   ]
  },
  {
   "cell_type": "code",
   "execution_count": 39,
   "metadata": {
    "pycharm": {
     "is_executing": false,
     "name": "#%%\n"
    }
   },
   "outputs": [
    {
     "name": "stdout",
     "output_type": "stream",
     "text": [
      "5\n",
      "1\n"
     ]
    }
   ],
   "source": [
    "# Get the max value from the list\n",
    "print(max(set(list_of_int), key = list_of_int.count))\n",
    "print(min(set(list_of_int), key = list_of_int.count))"
   ]
  },
  {
   "cell_type": "code",
   "execution_count": 40,
   "metadata": {
    "pycharm": {
     "is_executing": false,
     "name": "#%%\n"
    }
   },
   "outputs": [
    {
     "name": "stdout",
     "output_type": "stream",
     "text": [
      "Collecting progress\r\n",
      "  Downloading https://files.pythonhosted.org/packages/38/ef/2e887b3d2b248916fc2121889ce68af8a16aaddbe82f9ae6533c24ff0d2b/progress-1.5.tar.gz\r\n",
      "Building wheels for collected packages: progress\r\n",
      "  Building wheel for progress (setup.py) ... \u001b[?25l-\b \b\\\b \bdone\r\n",
      "\u001b[?25h  Created wheel for progress: filename=progress-1.5-cp37-none-any.whl size=8074 sha256=ac8bf296fb258694cd9bde3204abe4caa5bdd1199138476d5ddc7bfec54c438f\r\n",
      "  Stored in directory: /Users/saryamane/Library/Caches/pip/wheels/6c/c8/80/32a294e3041f006c661838c05a411c7b7ffc60ff939d14e116\r\n",
      "Successfully built progress\r\n",
      "Installing collected packages: progress\r\n",
      "Successfully installed progress-1.5\r\n"
     ]
    }
   ],
   "source": [
    "# Getting a progress bar implemented.\n",
    "!pip3 install progress"
   ]
  },
  {
   "cell_type": "code",
   "execution_count": 44,
   "metadata": {
    "pycharm": {
     "is_executing": false,
     "name": "#%%\n"
    }
   },
   "outputs": [],
   "source": [
    "import time\n",
    "from progress.bar import Bar\n",
    "bar = Bar('Processing', max=20)\n",
    "for i in range(20):\n",
    "    time.sleep(2)\n",
    "    bar.next()\n",
    "bar.finish()"
   ]
  },
  {
   "cell_type": "code",
   "execution_count": null,
   "metadata": {
    "pycharm": {
     "name": "#%%\n"
    }
   },
   "outputs": [],
   "source": [
    "\n"
   ]
  }
 ],
 "metadata": {
  "kernelspec": {
   "display_name": "Python 3",
   "language": "python",
   "name": "python3"
  },
  "language_info": {
   "codemirror_mode": {
    "name": "ipython",
    "version": 3
   },
   "file_extension": ".py",
   "mimetype": "text/x-python",
   "name": "python",
   "nbconvert_exporter": "python",
   "pygments_lexer": "ipython3",
   "version": "3.7.3"
  },
  "pycharm": {
   "stem_cell": {
    "cell_type": "raw",
    "metadata": {
     "collapsed": false
    },
    "source": []
   }
  }
 },
 "nbformat": 4,
 "nbformat_minor": 2
}
